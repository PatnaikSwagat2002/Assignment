{
 "cells": [
  {
   "cell_type": "code",
   "execution_count": 1,
   "id": "68f49ce8-7fa5-4d8a-bd60-813f65db9dc0",
   "metadata": {},
   "outputs": [],
   "source": [
    "# 1. Assign the key features of python that make it popular choice for programming."
   ]
  },
  {
   "cell_type": "code",
   "execution_count": 2,
   "id": "29c40e30-d598-4249-ab45-76f720358d7f",
   "metadata": {},
   "outputs": [],
   "source": [
    "# Python has a simple syntax and easy to learn \n",
    "# python is a high level language\n",
    "# It can be use in web development, data analyst machine learning and automation\n",
    "# It is open source free to use and distribute"
   ]
  },
  {
   "cell_type": "code",
   "execution_count": 3,
   "id": "837de18b-1759-450b-bf3f-325d40522b82",
   "metadata": {},
   "outputs": [],
   "source": [
    "# 2.Descsibe the role of predefined keywords in Python and provide examples of how they are used in a program"
   ]
  },
  {
   "cell_type": "code",
   "execution_count": 4,
   "id": "4572aeef-d025-4e67-bac2-240c4a94f127",
   "metadata": {},
   "outputs": [],
   "source": [
    "# Control statement\n",
    "# if , elif(else if), if else \n",
    "# Loop statement\n",
    "# for loop\n",
    "# while loop\n",
    "# break\n",
    "# continue\n",
    "# Function define >>  def , lambda, import , from ,class"
   ]
  },
  {
   "cell_type": "code",
   "execution_count": 5,
   "id": "e3ba4c81-d0ea-4ab1-94c6-f7bd0612f18d",
   "metadata": {},
   "outputs": [],
   "source": [
    "# 3. Compare and contrast mutable and immutable objects in Python with examples"
   ]
  },
  {
   "cell_type": "code",
   "execution_count": 6,
   "id": "8634ae54-4f3e-48ed-aa80-a1e69936bb67",
   "metadata": {},
   "outputs": [],
   "source": [
    "# Mutable \n",
    "# it can be changed after creation and value can be modified in place \n",
    "# Ex : lists , dictionaries\n",
    "\n",
    "# Immutable\n",
    "# It can not be changed after creation and value are cannot be modified in place\n",
    "# Ex : integers , floats , strngs, tuples \n",
    "\n",
    "# Mutable objects can be modified, while immutable objects are not modified\n",
    "# When mutable object is created it can grow in memeory but immutable objects once created occupy a fixed amount of memory."
   ]
  },
  {
   "cell_type": "code",
   "execution_count": 7,
   "id": "e28bf11d-b69a-45ba-a04a-ccf76510dc89",
   "metadata": {},
   "outputs": [],
   "source": [
    "# 4. Discuss the different types of operators in Python and provide examples of how they are used."
   ]
  },
  {
   "cell_type": "code",
   "execution_count": 8,
   "id": "e458a2e0-89c7-42ee-a532-158b461b9625",
   "metadata": {},
   "outputs": [],
   "source": [
    "# Python supports various types of operators\n",
    "# Arithmetic operators   >> (+,-,*,/,**,//,%)\n",
    "# Locical operators      >> (and , or, not)\n",
    "# Comparision operators  >> (==,!=,>,<,>=,<=,)\n",
    "# Assignment  operators  >> (+=, -=, *=, /=)"
   ]
  },
  {
   "cell_type": "code",
   "execution_count": 9,
   "id": "ff48ae2a-c863-4821-a531-2fa6b91dab03",
   "metadata": {},
   "outputs": [],
   "source": [
    "# 5. Explain the concept of type casting in Python with examples."
   ]
  },
  {
   "cell_type": "code",
   "execution_count": 10,
   "id": "f697053a-d1a4-48fd-bfee-b2574ddccdab",
   "metadata": {},
   "outputs": [],
   "source": [
    "# Type casting, also referred to as type conversion, is the process of changing one data type to another in Python.\n",
    "# Python provides built-in functions for type casting, such as int(), float(), str(), list(), tuple(), dict() \n",
    "# Ex:\n",
    "# int_var =5\n",
    "# float_var = float(int_var)\n",
    "# print(float_var) # Output : 5.0\n",
    "\n",
    "# int_var =5 \n",
    "# str_var = str(int_var)\n",
    "# print(str_var) # Output : \"5\""
   ]
  },
  {
   "cell_type": "code",
   "execution_count": 11,
   "id": "d25d6d3d-9125-4c77-9b1f-c3fd2775669c",
   "metadata": {},
   "outputs": [],
   "source": [
    "# 6.How do conditional statements work in Python? Illustrate with examples"
   ]
  },
  {
   "cell_type": "code",
   "execution_count": 12,
   "id": "39b4df2d-b7fa-4d57-b3ec-c61e5de16cde",
   "metadata": {},
   "outputs": [],
   "source": [
    "# if statement\n",
    "# x = 15\n",
    "# if x > 10 :\n",
    "#     print(\"x is greater than 10\")\n",
    "\n",
    "# if else statement\n",
    "# age = 21\n",
    "# if age >= 18:\n",
    "#    print(\"Eligible for voteing\")\n",
    "# else:\n",
    "#    print(\"Not Eligible for voteing\")\n",
    "\n",
    "# Nested if statement \n",
    "# a= 10\n",
    "# b= 15\n",
    "# if a > 0:\n",
    "#     if b > 0:\n",
    "#         print(\"Both are positive\")\n",
    "#     print()"
   ]
  },
  {
   "cell_type": "code",
   "execution_count": 13,
   "id": "905d7ddd-3ac6-4527-9c59-4b79240f8f99",
   "metadata": {},
   "outputs": [],
   "source": [
    "# 7. Describe the different types of loops in Python and their use cases with examples."
   ]
  },
  {
   "cell_type": "code",
   "execution_count": 14,
   "id": "a6db5c44-9572-4730-8973-0e0de6b8b079",
   "metadata": {},
   "outputs": [],
   "source": [
    "# For loop\n",
    "# fruits =['apple','banana','mango','gouva']\n",
    "# for i in fruits:\n",
    "#     print(i)\n",
    "# Output >> apple, banana , mango , gouva\n",
    "\n",
    "# While loop\n",
    "# i =0\n",
    "# while i < 5:\n",
    "#     print(i)\n",
    "#     i = i+1\n",
    " \n",
    "# Output :\n",
    "# 0\n",
    "# 1\n",
    "# 2\n",
    "# 3\n",
    "# 4"
   ]
  }
 ],
 "metadata": {
  "kernelspec": {
   "display_name": "Python 3 (ipykernel)",
   "language": "python",
   "name": "python3"
  },
  "language_info": {
   "codemirror_mode": {
    "name": "ipython",
    "version": 3
   },
   "file_extension": ".py",
   "mimetype": "text/x-python",
   "name": "python",
   "nbconvert_exporter": "python",
   "pygments_lexer": "ipython3",
   "version": "3.10.8"
  }
 },
 "nbformat": 4,
 "nbformat_minor": 5
}
